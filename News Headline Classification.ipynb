{
  "cells": [
    {
      "cell_type": "markdown",
      "metadata": {
        "id": "X5xYrCLy1JXP"
      },
      "source": [
        "#Libraries"
      ]
    },
    {
      "cell_type": "code",
      "execution_count": 47,
      "metadata": {
        "id": "tnG2h-erpqbL"
      },
      "outputs": [],
      "source": [
        "#I wrote all of the explanatory text and comments in this notebook. The was adapted from https://github.com/eftekhar-hossain/Bangla-News-Headlines-Categorization/blob/master/news_headline_classification_GRU.ipynb"
      ]
    },
    {
      "cell_type": "markdown",
      "metadata": {
        "id": "B6QUbjTeqDaw"
      },
      "source": [
        "Author: Thaslima Nasreen Fazulur Rahman"
      ]
    },
    {
      "cell_type": "markdown",
      "source": [
        "Introduction: \n",
        "The project is about creating a tool which can be used to categorize the news headlines in Bengali, there are six categories such as National, Politics, Amusement, IT, International and Sports using a deep recurrent neural network. The dataset has been obtained from Github which is about .13 Million size. The semantic meaning of words in the headlines is extracted by a feature called word embedding. Deep learning model is built using the five layers such as The used model architecture consists of a embedding layer(input_length = 21, embedding_dim = 64), two dense layer (n_units = 24, 6), GRU layer(n_units = 64) and a dropout and a softmax layer. The datasets are prepared to feed into the model. Initially cleaning of data takes place by removing unwanted symbols such as punctuation using one of the python library regex and dataset which is having headline length less than 2 has been removed. The train_test_split method sklearn library is used to split the dataset as training, validation and test and Labelencoder technique is used to encode the categories. LabelEncoder is a method provided by sklearn library, it is used to assign numerical values  0 - n-1 to distinct values of particular column  for example, as there are 6 categories, it will assign 1 to IT, 0 to Amusement. Where n is the number of distinct values in categories.The next step is used to make these datasets to be suitable to send as input to the model. This is achieved by using methods provided by keras, mainly tokenizer, text_to_sequence and padded_sequence. There is a tokenizer class of keras is there which is utilized for vectorizing a text corpus(in our case it is the headline). In this text is converted into integer sequence or it could create a vector that will have coefficient for every token in all the headlines in the form of binary values. texts_to_sequence is an another method of tokenizer which is used to words of headlines into sequence of integer (Since unique value is assigned to each word)Pad_sequence is method which is used to pad each sequence of same length, here we are taking length to be 21. Every sequence will be padded to do 21 and its after the sequence since we give padding type as post,If maximum length is not given then longest sequence length will be taken.The above methods is implemented on all test,train and Valid data set. Then the model is trained and accuracy is tested by creating a convolution matrix. \n",
        " \n",
        " \n"
      ],
      "metadata": {
        "id": "SQAA87oryqt6"
      }
    },
    {
      "cell_type": "code",
      "execution_count": 2,
      "metadata": {
        "id": "_qVBJO_31PRk"
      },
      "outputs": [],
      "source": [
        "import numpy as np\n",
        "#NumPy library is used to perform mathematical operation in array\n",
        "import matplotlib.pyplot as plt\n",
        "#matplotlib is used to create \n",
        "%matplotlib inline\n",
        "#to enable inline plotting\n",
        "import pandas as pd\n",
        "#panda is used for data analyis\n",
        "import seaborn as sns\n",
        "#to create stastical graph in python\n",
        "import re,nltk,json\n",
        "#to use regex, nltk, json method\n",
        "import tensorflow as tf\n",
        "#to develop and train model\n",
        "from tensorflow import keras\n",
        "#developing and evaluating deeplearning model\n",
        "from tensorflow.keras import regularizers\n",
        "#to use a regularizer label\n",
        "from tensorflow.keras.preprocessing.sequence import pad_sequences\n",
        "#to implement padding on the dataset\n",
        "from keras import models\n",
        "#to create a model\n",
        "from keras import layers\n",
        "#to add layers to the model such as dense\n",
        "from tensorflow.keras.layers import LSTM,GRU\n",
        "#to use LSTM and GRU\n",
        "from tensorflow.keras.models import load_model\n",
        "#TO LOAD THE SAVED MODEL\n",
        "from sklearn.metrics import confusion_matrix\n",
        "#to create the confusion matrix\n",
        "from sklearn.metrics import classification_report \n",
        "#to create classification report \n",
        "from sklearn.model_selection import train_test_split\n",
        "#to split the data set as train and tes\n",
        "from sklearn.metrics import accuracy_score,precision_score,recall_score,f1_score,roc_auc_score\n",
        "# to calculate accuracy_score,precision_score,recall_score,f1_score,roc_auc_score\n",
        "from sklearn.metrics import average_precision_score,roc_auc_score, roc_curve, precision_recall_curve\n",
        "# average_precision_score,roc_auc_score, roc_curve, precision_recall_curve\n",
        "from sklearn.preprocessing import LabelEncoder\n",
        "# to implement encoder\n",
        "from tensorflow.keras.preprocessing.text import Tokenizer\n",
        "#to perform tokenizer\n",
        "np.random.seed(42)\n",
        "#generating pseudo random number\n",
        "#creating a class to assign color \n",
        "class color: # Text style\n",
        "   PURPLE = '\\033[95m'\n",
        "   CYAN = '\\033[96m'\n",
        "   DARKCYAN = '\\033[36m'\n",
        "   BLUE = '\\033[94m'\n",
        "   GREEN = '\\033[92m'\n",
        "   YELLOW = '\\033[93m'\n",
        "   RED = '\\033[91m'\n",
        "   BOLD = '\\033[1m'\n",
        "   UNDERLINE = '\\033[4m'\n",
        "   END = '\\033[0m'\n",
        "# dataset path\n",
        "#path = '/content/drive/My Drive/Colab Notebooks/NLP Projects/News Headline Classification/'"
      ]
    },
    {
      "cell_type": "code",
      "execution_count": 3,
      "metadata": {
        "colab": {
          "base_uri": "https://localhost:8080/",
          "height": 0
        },
        "id": "o3yC7ErI_aCt",
        "outputId": "66084cb7-9a66-450d-a70f-4659f60bca7b"
      },
      "outputs": [
        {
          "output_type": "stream",
          "name": "stdout",
          "text": [
            "The type of variable data\n",
            " <class 'pandas.core.frame.DataFrame'>\n",
            "The list of columns of dataframe ['headline', 'category', 'newspaper name']\n",
            "The few lines of data frame\n",
            "                                             headline   category newspaper name\n",
            "0           হঠাৎ করে কেঁদে ফেললেন ঐশ্বরিয়া রাই, কেন!  Amusement       Jugantor\n",
            "1                      এত দামি জুতা পরেন প্রিয়াঙ্কা!  Amusement       Jugantor\n",
            "2                    মৃত্যুর আগে শ্রীদেবীর শেষ ভিডিও  Amusement       Jugantor\n",
            "3           কৌতুক অভিনেতা কপিল শর্মার ঘরে নতুন অতিথি  Amusement       Jugantor\n",
            "4         বিয়ের পর কোহলির জন্য যে ত্যাগ করলেন আনুশকা  Amusement       Jugantor\n",
            "5  মোহিনী নাচের জাদুতে আগুন জ্বালালেন ঊর্বশী! (ভি...  Amusement       Jugantor\n"
          ]
        }
      ],
      "source": [
        "\n",
        "\n",
        "#We need a dataset to start, the dataset I have taken is .csv file which comprised of headlines, category and newspaper name.\n",
        "\n",
        "#importing the library panda as we are going to convert .csv file into dataframe.\n",
        "import pandas as pd\n",
        "\n",
        "#the variable 'url' points to raw version of the dataset headlines.csv, this was hosted in github by the original author of this project in his github id. \n",
        "url = 'https://raw.githubusercontent.com/eftekhar-hossain/Bangla-News-Headlines-Categorization/master/headlines.csv'\n",
        "\n",
        "#pd.read_csv is used to read a comma-separated values (csv) file into DataFrame data.\n",
        "data = pd.read_csv(url)\n",
        "\n",
        "print('The type of variable data\\n', type(data))\n",
        "\n",
        "# to show column names of newly created dataframe.\n",
        "print('The list of columns of dataframe',list(data)) \n",
        "\n",
        "#examining the few lines of data frame, which can be done by 'head' method provided by panda\n",
        "print('The few lines of data frame\\n', data.head(6))"
      ]
    },
    {
      "cell_type": "code",
      "execution_count": 4,
      "metadata": {
        "colab": {
          "base_uri": "https://localhost:8080/",
          "height": 0
        },
        "id": "dOJksAgIAHsg",
        "outputId": "a07b44be-de8b-404e-d2bc-dbfac9d73188"
      },
      "outputs": [
        {
          "output_type": "execute_result",
          "data": {
            "text/plain": [
              "(136811, 3)"
            ]
          },
          "metadata": {},
          "execution_count": 4
        }
      ],
      "source": [
        "# to show the number of rows and columns in this data set, shape method can be used\n",
        "data.shape\n"
      ]
    },
    {
      "cell_type": "markdown",
      "metadata": {
        "id": "VYgeRkab1q3c"
      },
      "source": [
        "#Data Preparation"
      ]
    },
    {
      "cell_type": "code",
      "execution_count": 5,
      "metadata": {
        "colab": {
          "base_uri": "https://localhost:8080/",
          "height": 347
        },
        "id": "D_1JzSZn1u8t",
        "outputId": "301b499d-d60f-4b76-e5cd-339f4b508826"
      },
      "outputs": [
        {
          "output_type": "stream",
          "name": "stdout",
          "text": [
            "Total number of headlines: 136811\n"
          ]
        },
        {
          "output_type": "display_data",
          "data": {
            "text/plain": [
              "<Figure size 432x288 with 1 Axes>"
            ],
            "image/png": "[encoded data removed]"
          },
          "metadata": {}
        }
      ],
      "source": [
        "#To make statistical graphics Seaborn library is used which has been build on top of matplotlib and integrates closely with panda data structure. \n",
        "\n",
        "#printing the total number of headlines which will be equal to the number of rows in the panda\n",
        "print(f'Total number of headlines: {len(data)}')\n",
        "\n",
        "#The function Seaborn.set() is used to set font size in Seaborn plot, in order to set the font size parameter font_scale is passed in the set() function.\n",
        "sns.set(font_scale=1.4)\n",
        "\n",
        "#We are plotting the graph to get the insight how headlines are distributed among different categories.\n",
        "#the below piece of code will plot the distribution of categories in a bar graph (IT, politics, Amusement, national, sports, Internaltionl) in a dataset\n",
        "data['category'].value_counts().plot(kind='barh', figsize=(6, 4))\n",
        "\n",
        "#to comprehend the above bar graph easily, we need to assign labels.\n",
        "#The pyplot module of matplotlib has xlable() and ylable() function that can used to set the label for x axis and y axis. \n",
        "#And labeled function is passed as parameter to both the function, whose default value = ‘None’\n",
        "#which is utilized  to provide spacing in points from axes bounding box comprised of ticks and labels of tick\n",
        "\n",
        "#setting the xlable as \"Number of Headlines\" and labelapad =12\n",
        "plt.xlabel(\"Number of Headlines\", labelpad=12)\n",
        "\n",
        "#setting the ylable as \"Category\" and labelapad =12\n",
        "plt.ylabel(\"Category\", labelpad=12)\n",
        "\n",
        "\n",
        "#ytick function in matplotlib is generally used to either set or get the current tick locations and labels in the y axis and \n",
        "#we pass rotation = 45 to rotate the y axis ticks by 45-degrees as we could see (IT, politics, Amusement, national, sports, Internaltionl) are rotated\n",
        "\n",
        "plt.yticks(rotation = 45)\n",
        "#setting the title of graph of to be \"Dataset Distribution\"\n",
        "plt.title(\"Dataset Distribution\", y=1.02);"
      ]
    },
    {
      "cell_type": "code",
      "execution_count": 6,
      "metadata": {
        "colab": {
          "base_uri": "https://localhost:8080/",
          "height": 0
        },
        "id": "RaJzhzHZ25LY",
        "outputId": "75b1680c-6814-47af-eb83-fa91138a041d"
      },
      "outputs": [
        {
          "output_type": "execute_result",
          "data": {
            "text/plain": [
              "Index(['headline', 'category', 'newspaper name'], dtype='object')"
            ]
          },
          "metadata": {},
          "execution_count": 6
        }
      ],
      "source": [
        "#printing the column names of the data frame\n",
        "data.columns"
      ]
    },
    {
      "cell_type": "markdown",
      "metadata": {
        "id": "TVjNVcuC2lyQ"
      },
      "source": [
        "#Data Cleaning"
      ]
    },
    {
      "cell_type": "code",
      "execution_count": 7,
      "metadata": {
        "colab": {
          "base_uri": "https://localhost:8080/",
          "height": 0
        },
        "id": "cbd4LgnF-T_r",
        "outputId": "0e4f9ce9-ac78-4f9a-97bf-a2d3f8442fda"
      },
      "outputs": [
        {
          "output_type": "stream",
          "name": "stdout",
          "text": [
            "                                             headline   category  \\\n",
            "0            হঠাৎ করে কেঁদে ফেললেন ঐশ্বরিয়া রাই, কেন!  Amusement   \n",
            "1                       এত দামি জুতা পরেন প্রিয়াঙ্কা!  Amusement   \n",
            "2                     মৃত্যুর আগে শ্রীদেবীর শেষ ভিডিও  Amusement   \n",
            "3            কৌতুক অভিনেতা কপিল শর্মার ঘরে নতুন অতিথি  Amusement   \n",
            "4          বিয়ের পর কোহলির জন্য যে ত্যাগ করলেন আনুশকা  Amusement   \n",
            "5   মোহিনী নাচের জাদুতে আগুন জ্বালালেন ঊর্বশী! (ভি...  Amusement   \n",
            "6             প্রতারণা মামলায় সোনাক্ষীকে খুঁজছে পুলিশ  Amusement   \n",
            "7   ‘ভালো অভিনেত্রী নয়, মা আদর্শ মানুষ হওয়ার পাঠ দ...  Amusement   \n",
            "8                এবার শুটিং সেটে সালমানকে হত্যাচেষ্টা  Amusement   \n",
            "9     শ্রীদেবীর মৃত্যুর ‘তদন্ত শেষ’, মৃতদেহ হস্তান্তর  Amusement   \n",
            "10                                  মোদির পাশে তৈমুর!  Amusement   \n",
            "11  প্রথম ছবি মুক্তির আগেই সাইবার দুনিয়া কাঁপাচ্ছে...  Amusement   \n",
            "12                    প্রেমে পড়েছে মন প্রেমে পড়েছে...  Amusement   \n",
            "13            মেয়ের ঠোঁটে চুমু দিয়ে সমালোচিত ঐশ্বরিয়া  Amusement   \n",
            "14      অভিনয়ে অমিতাভের ৫০ বছর, অভিষেকের আবেগঘন পোস্ট  Amusement   \n",
            "15         'রাত আর দিনে' ঐশ্বরিয়ার দাবি ১০ কোটি রুপি  Amusement   \n",
            "16          সালমানকে প্রকাশ্যে পেটাতে পুরস্কার ঘোষণা!  Amusement   \n",
            "17                        রাজনীতিতে নামার ঘোষণা রজনীর  Amusement   \n",
            "18          মন থেকে শামিকে ঝেড়ে ফেলে চলচ্চিত্রে হাসিন  Amusement   \n",
            "19         'এবিসিডি থ্রি'র জন্য এতো টাকা চাইলেন বরুণ!  Amusement   \n",
            "\n",
            "   newspaper name  \n",
            "0        Jugantor  \n",
            "1        Jugantor  \n",
            "2        Jugantor  \n",
            "3        Jugantor  \n",
            "4        Jugantor  \n",
            "5        Jugantor  \n",
            "6        Jugantor  \n",
            "7        Jugantor  \n",
            "8        Jugantor  \n",
            "9        Jugantor  \n",
            "10       Jugantor  \n",
            "11       Jugantor  \n",
            "12       Jugantor  \n",
            "13       Jugantor  \n",
            "14       Jugantor  \n",
            "15       Jugantor  \n",
            "16       Jugantor  \n",
            "17       Jugantor  \n",
            "18       Jugantor  \n",
            "19       Jugantor  \n"
          ]
        }
      ],
      "source": [
        "#we could see that there are symbols like !, ... in the headline column of the dataframe data\n",
        "print(data.head(20))"
      ]
    },
    {
      "cell_type": "code",
      "execution_count": 8,
      "metadata": {
        "colab": {
          "base_uri": "https://localhost:8080/",
          "height": 0
        },
        "id": "wY1Def2a2s7l",
        "outputId": "6f1ed2ef-731f-40d3-ef21-2e20432d6cfd"
      },
      "outputs": [
        {
          "output_type": "stream",
          "name": "stdout",
          "text": [
            "Original:  ক্ষমা চেয়েও মুক্তি পেলেন না পরিচালক গাজী মাহবুব \n",
            "Cleaned: ক্ষমা চেয়েও মুক্তি পেলেন না পরিচালক গাজী মাহবুব \n",
            " Category:--  Amusement \n",
            "\n",
            "Original:  ব্র্যান্ডউইথের ব্যবহার ৮০০ জিবিপিএস ছাড়িয়ে \n",
            "Cleaned: ব্র্যান্ডউইথের ব্যবহার ৮০০ জিবিপিএস ছাড়িয়ে \n",
            " Category:--  IT \n",
            "\n",
            "Original:  জামিনে মুক্তি পেলেন ছাত্রদল সভাপতি \n",
            "Cleaned: জামিনে মুক্তি পেলেন ছাত্রদল সভাপতি \n",
            " Category:--  politics \n",
            "\n",
            "Original:  দ. কোরিয়ায় ১০০টি খালি কফিন পাঠিয়েছে যুক্তরাষ্ট্র \n",
            "Cleaned: দ  কোরিয়ায় ১০০টি খালি কফিন পাঠিয়েছে যুক্তরাষ্ট্র \n",
            " Category:--  International \n",
            "\n",
            "Original:  ফ্লোরিডায় হামলাকারী ‘মানসিকভাবে অসুস্থ’: ট্রাম্প \n",
            "Cleaned: ফ্লোরিডায় হামলাকারী  মানসিকভাবে অসুস্থ   ট্রাম্প \n",
            " Category:--  International \n",
            "\n",
            "Original:  সেরাটা দিতে পারলে সিরিজ জিতবে বাংলাদেশ: মাশরাফি \n",
            "Cleaned: সেরাটা দিতে পারলে সিরিজ জিতবে বাংলাদেশ  মাশরাফি \n",
            " Category:--  sports \n",
            "\n",
            "Original:  সাকিব ফেরালেন শাই হোপকে \n",
            "Cleaned: সাকিব ফেরালেন শাই হোপকে \n",
            " Category:--  sports \n",
            "\n",
            "Original:  কংগ্রেস সভাপতির পদ থেকে রাহুল গান্ধীর পদত্যাগ \n",
            "Cleaned: কংগ্রেস সভাপতির পদ থেকে রাহুল গান্ধীর পদত্যাগ \n",
            " Category:--  International \n",
            "\n",
            "Original:  তৃতীয়-চতুর্থ শ্রেণির নিয়োগও হবে পিএসসির মাধ্যমে \n",
            "Cleaned: তৃতীয় চতুর্থ শ্রেণির নিয়োগও হবে পিএসসির মাধ্যমে \n",
            " Category:--  national \n",
            "\n",
            "Original:  নূরজাহান আমের ওজন আড়াই কেজি \n",
            "Cleaned: নূরজাহান আমের ওজন আড়াই কেজি \n",
            " Category:--  International \n",
            "\n",
            "Original:  ইন্টারনেট বলছে, ‘উফ্ ভাবিজি’ \n",
            "Cleaned: ইন্টারনেট বলছে   উফ্ ভাবিজি  \n",
            " Category:--  International \n",
            "\n",
            "Original:  ইমরানের আহ্বানে মোদির সাড়া, বৈঠকে বসবেন দুই দেশের পররাষ্ট্রমন্ত্রীরা \n",
            "Cleaned: ইমরানের আহ্বানে মোদির সাড়া  বৈঠকে বসবেন দুই দেশের পররাষ্ট্রমন্ত্রীরা \n",
            " Category:--  International \n",
            "\n",
            "Original:  ইয়েমেনে ড্রোন হামলায় ১০ আল-কায়েদা সদস্য নিহত \n",
            "Cleaned: ইয়েমেনে ড্রোন হামলায় ১০ আল কায়েদা সদস্য নিহত \n",
            " Category:--  International \n",
            "\n",
            "Original:  অবশেষে তালিবানের ওপর প্রভাবের কথা স্বীকার করল পাকিস্তান \n",
            "Cleaned: অবশেষে তালিবানের ওপর প্রভাবের কথা স্বীকার করল পাকিস্তান \n",
            " Category:--  International \n",
            "\n",
            "Original:  কমার্স কলেজের বার্ষিক ক্রীড়া \n",
            "Cleaned: কমার্স কলেজের বার্ষিক ক্রীড়া \n",
            " Category:--  sports \n",
            "\n"
          ]
        }
      ],
      "source": [
        "# Cleaning Headline Column - This block of code is to remove unnecessary symbols present in headline column\n",
        "# every language has associated unicode  character set related to it, for the language Bengali \n",
        "#it is  [^\\u0980-\\u09FF], we are replacing other symbols such as punctuation with space if it is not matching the bengali charater set\n",
        "#^ - symbol used to filter out the characters which is not matching any character in [^\\u0980-\\u09FF]. \n",
        "#To implement this, cleaning_data function is created and one method of regex 'sub' is used to replace punctuation and other symbols in the headline\n",
        "\n",
        "#defining the function cleaning_data which takes headline as a parameter.\n",
        "def cleaning_data(row):\n",
        "#re.sub is used to replace any wanted symbol from the headine and the result is stored in variable 'headlines'\n",
        "      headlines = re.sub('[^\\u0980-\\u09FF]',' ',str(row)) #removing unnecessary punctuation\n",
        "#returning the cleaned headline\n",
        "      return headlines\n",
        "\n",
        "# Apply the cleaning_data function to all the headlines, and storing the cleaned headline a new column 'cleaned',\n",
        "#we make use of apply method in pandas to accomplish this\n",
        "data['cleaned'] = data['headline'].apply(cleaning_data)  \n",
        "\n",
        "#reviewing some of the cleaned data by printing it\n",
        "\n",
        "#creating the list as below, which could be be used as index in dataframe\n",
        "sample_data = [2000,5000,10000,20000,30000,35000,40000,45000,50000,60000,65000,70000,75000,80000,100000]\n",
        "\n",
        "#for every element in sample_data, print the original headline which is column data.headline[i] \n",
        "#and cleaned data which is in data.cleaned[i] this could be done using for loop as implemented below\n",
        "\n",
        "for i in sample_data: #taking 2000, 5000, 10000 ... until there is a element in sample_data\n",
        "\n",
        "#printing category, original headline, cleaned headline, \n",
        "  print('Original: ',data.headline[i],'\\nCleaned:',\n",
        "           data.cleaned[i],'\\n','Category:-- ',data.category[i],'\\n')  \n",
        "# we could see that ', :, '' are removed "
      ]
    },
    {
      "cell_type": "markdown",
      "metadata": {
        "id": "hPrg1wPCEydF"
      },
      "source": [
        "#Remove Low Length Data"
      ]
    },
    {
      "cell_type": "code",
      "execution_count": 9,
      "metadata": {
        "colab": {
          "base_uri": "https://localhost:8080/",
          "height": 0
        },
        "id": "8JZZPNtRE4Hc",
        "outputId": "b9fe6825-d7a8-4ad5-dd4c-8fb2ff93ed4b"
      },
      "outputs": [
        {
          "output_type": "stream",
          "name": "stdout",
          "text": [
            "The length of original dataframe 136811\n",
            "The length of dataset after dropping headlines 132713\n",
            "After Cleaning: \n",
            "Removed 4098 Small Headlines \n",
            "Total Headlines: 132713\n"
          ]
        }
      ],
      "source": [
        "# This block of code remove the row in a dataframe 'data' if the headline is less than 2 words\n",
        "\n",
        "#lambda is nameless function in python, which is used to take each headline and split into words, this is accomplised by using split() function.\n",
        "# Split() function - split a string into a list by using separator, the default separator is whitespace here.\n",
        "\n",
        "#applying lambda to each row on the column cleaned and storing the result by creating new column 'length'.\n",
        "data['length'] = data['cleaned'].apply(lambda x:len(x.split()))\n",
        "\n",
        "\n",
        "#The length of original dataset.\n",
        "print('The length of original dataframe', len(data))\n",
        "\n",
        "# We can Remove the headlines with less number of words, by using loc function of the panda and\n",
        "# setting the filter criteria as data.length<2\n",
        "dataset = data.loc[data.length>2]\n",
        "\n",
        "#printring the length of dataset after dropping headline whose length is less than 2 \n",
        "print('The length of dataset after dropping headlines',len(dataset))\n",
        "\n",
        "\n",
        "#In pandas reset_index is used to set the index to default indexing that is from (0 to no of rows -1) \n",
        "#and used drop parameter = True to avoid insert old index value to insert as column in data fram\n",
        "dataset = dataset.reset_index(drop = True)\n",
        "\n",
        "#printing the number of headlines with less than 2 words which is 4098 and the newly created dataset\n",
        "print(\"After Cleaning:\",\"\\nRemoved {} Small Headlines\".format(len(data)-len(dataset)),\n",
        "      \"\\nTotal Headlines:\",len(dataset))"
      ]
    },
    {
      "cell_type": "markdown",
      "source": [
        "The below block is not part of project, but simply demonstrating how the for loop in the subsequent block works"
      ],
      "metadata": {
        "id": "d-4fkr8jKViL"
      }
    },
    {
      "cell_type": "code",
      "execution_count": 11,
      "metadata": {
        "colab": {
          "base_uri": "https://localhost:8080/",
          "height": 0
        },
        "id": "Vua5P3ZuS7rO",
        "outputId": "0343f166-622e-414c-c06d-babdcd9592d7"
      },
      "outputs": [
        {
          "output_type": "stream",
          "name": "stdout",
          "text": [
            "হঠাৎ করে কেঁদে ফেললেন ঐশ্বরিয়া রাই  কেন \n",
            "হঠাৎ করে কেঁদে ফেললেন ঐশ্বরিয়া রাই  কেন\n",
            "printing\n",
            "<built-in method split of str object at 0x7f0e80c97cb0>\n",
            "wor\n",
            "হঠাৎ\n",
            "wor\n",
            "করে\n",
            "wor\n",
            "কেঁদে\n",
            "wor\n",
            "ফেললেন\n",
            "wor\n",
            "ঐশ্বরিয়া\n",
            "wor\n",
            "রাই\n",
            "wor\n",
            "কেন\n",
            "এত দামি জুতা পরেন প্রিয়াঙ্কা \n",
            "এত দামি জুতা পরেন প্রিয়াঙ্কা\n",
            "printing\n",
            "<built-in method split of str object at 0x7f0e80cb69c0>\n",
            "wor\n",
            "এত\n",
            "wor\n",
            "দামি\n",
            "wor\n",
            "জুতা\n",
            "wor\n",
            "পরেন\n",
            "wor\n",
            "প্রিয়াঙ্কা\n"
          ]
        }
      ],
      "source": [
        "#b=list(dataset.cleaned) #taking the cleaned dataset\n",
        "#a=b[:2] #only 2 headline\n",
        "#c=[] #empty list\n",
        "#count=0 #initialize to zero\n",
        "#for t in a: #iterate\n",
        "  #count+=1\n",
        "  #if count != 1:\n",
        "    #print(t)\n",
        "    #print(t.strip())\n",
        "    #print('printing')\n",
        "    #print(t.strip().split)\n",
        "    #for word in t.strip().split():\n",
        "      #print('wor')\n",
        "      #print(word.strip().lower())\n",
        "      #c.append(word)\n",
        "  "
      ]
    },
    {
      "cell_type": "code",
      "execution_count": 12,
      "metadata": {
        "colab": {
          "base_uri": "https://localhost:8080/",
          "height": 0
        },
        "id": "D1z7CDlt4nl3",
        "outputId": "60c4682d-b7f0-4041-a166-fbcb1a4ea308"
      },
      "outputs": [
        {
          "output_type": "stream",
          "name": "stdout",
          "text": [
            "Sample words ['হঠাৎ', 'করে', 'কেঁদে', 'ফেললেন', 'ঐশ্বরিয়া', 'রাই', 'কেন', 'এত', 'দামি']\n",
            "{'International': 47885, 'sports': 30831, 'national': 24557, 'Amusement': 16067, 'politics': 10577, 'IT': 2796}\n",
            "['International', 'sports', 'national', 'Amusement', 'politics', 'IT']\n",
            "\n",
            "Class Name :  International\n",
            "Number of Documents:47885\n",
            "Number of Words:307354\n",
            "Number of Unique Words:28710\n",
            "Most Frequent Words:\n",
            "\n",
            "নিহত\t3398\n",
            "না\t2133\n",
            "নিয়ে\t1634\n",
            "ট্রাম্প\t1472\n",
            "মার্কিন\t1434\n",
            "ও\t1342\n",
            "থেকে\t1332\n",
            "ভারতের\t1212\n",
            "যুক্তরাষ্ট্র\t1208\n",
            "ভারত\t1192\n",
            "\n",
            "Class Name :  sports\n",
            "Number of Documents:30831\n",
            "Number of Words:152852\n",
            "Number of Unique Words:18581\n",
            "Most Frequent Words:\n",
            "\n",
            "বাংলাদেশ\t1581\n",
            "না\t1122\n",
            "জয়\t883\n",
            "বাংলাদেশের\t873\n",
            "শুরু\t782\n",
            "নিয়ে\t689\n",
            "সাকিব\t672\n",
            "ভারত\t619\n",
            "শেষ\t603\n",
            "দল\t573\n",
            "\n",
            "Class Name :  national\n",
            "Number of Documents:24557\n",
            "Number of Words:158042\n",
            "Number of Unique Words:20710\n",
            "Most Frequent Words:\n",
            "\n",
            "না\t1444\n",
            "হবে\t1292\n",
            "ও\t1215\n",
            "প্রধানমন্ত্রী\t1003\n",
            "আজ\t752\n",
            "থেকে\t617\n",
            "কাদের\t613\n",
            "খালেদা\t566\n",
            "বিএনপি\t557\n",
            "নিয়ে\t556\n",
            "\n",
            "Class Name :  Amusement\n",
            "Number of Documents:16067\n",
            "Number of Words:98582\n",
            "Number of Unique Words:16622\n",
            "Most Frequent Words:\n",
            "\n",
            "নতুন\t1158\n",
            "নিয়ে\t1074\n",
            "ও\t1003\n",
            "গান\t683\n",
            "ভিডিও\t517\n",
            "না\t484\n",
            "নাটক\t469\n",
            "খান\t461\n",
            "চলচ্চিত্র\t416\n",
            "আজ\t412\n",
            "\n",
            "Class Name :  politics\n",
            "Number of Documents:10577\n",
            "Number of Words:75657\n",
            "Number of Unique Words:10398\n",
            "Most Frequent Words:\n",
            "\n",
            "খালেদা\t1260\n",
            "বিএনপি\t918\n",
            "বিএনপির\t907\n",
            "না\t880\n",
            "কাদের\t861\n",
            "আ\t821\n",
            "জিয়ার\t820\n",
            "লীগের\t589\n",
            "হবে\t492\n",
            "লীগ\t477\n",
            "\n",
            "Class Name :  IT\n",
            "Number of Documents:2796\n",
            "Number of Words:17692\n",
            "Number of Unique Words:5528\n",
            "Most Frequent Words:\n",
            "\n",
            "নতুন\t167\n",
            "ফেসবুক\t165\n",
            "ও\t143\n",
            "স্মার্টফোন\t107\n",
            "নিয়ে\t95\n",
            "থেকে\t94\n",
            "শুরু\t86\n",
            "ডিজিটাল\t80\n",
            "জন্য\t79\n",
            "মোবাইল\t75\n",
            "Total Number of Unique Words:57490\n"
          ]
        }
      ],
      "source": [
        "# This block of code create a function 'data_summary' which take the dataset datframe created above as input,\n",
        "#that has cleaned headline and the length of data greater than 2\n",
        "\n",
        "def data_summary(dataset):\n",
        "    \n",
        "    \"\"\"\n",
        "    This function will print the summary of the headlines and words distribution in the dataset. \n",
        "    \n",
        "    Args:\n",
        "        dataset: list of cleaned sentences   \n",
        "        \n",
        "    Returns:\n",
        "        Number of documnets per class: int \n",
        "        Number of words per class: int\n",
        "        Number of unique words per class: int\n",
        "\n",
        "\n",
        "    \"\"\"\n",
        "    #creating a list documents to store the number of headlines in each of the category \n",
        "    documents = []\n",
        "    #creating a list words to store the number of words in each of the category \n",
        "    words = []\n",
        "    #creating a list u_words to store the number of unique words in each of the category \n",
        "    u_words = []\n",
        "    # taking each headline from dataset(1st for loop), then  perform strip on the headline to remove extra\n",
        "    #space in string if any and splitting the string into words(for loop 2) and then applying strip function \n",
        "    #to each word and converting to lower case\n",
        "\n",
        "    # for example if the headline is হঠাৎ করে কেঁদে ফেললেন ঐশ্বরিয়া রাই  কেন \n",
        "    #list will have ['হঠাৎ', 'করে', 'কেঁদে', 'ফেললেন', 'ঐশ্বরিয়া', 'রাই',  'কেন' ]\n",
        "\n",
        "    total_u_words = [word.strip().lower() for t in list(dataset.cleaned) for word in t.strip().split()]\n",
        "\n",
        "    #printing few list of words\n",
        "\n",
        "    print('Sample words', total_u_words[:9])\n",
        "    \n",
        "    #this will print the categories and number of headlines in each categories, \n",
        "    #it is just testing this statement is used in for loop below\n",
        "    print(dataset.category.value_counts().to_dict())\n",
        "\n",
        "    #In order to get the list of available categories, we loop through the dictionary using items() method and pick only key values of dictionary\n",
        "    class_label= [k for k,v in dataset.category.value_counts().to_dict().items()]\n",
        "   \n",
        "    print(class_label)\n",
        "  # find word list\n",
        "    for label in class_label: #iterating through each label \n",
        "        \n",
        "        #creating a list of words by:\n",
        "        #matching the headlines associated with each category and creating list of words done above using two for loop\n",
        "        #1st for loop - to get the headline\n",
        "        #second for loop - remove extra space left and right of the headline using 'strip' and apply split function to split the string by whitespace to get each word\n",
        "        #then remove spaces in each word and convert it into lower case\n",
        "\n",
        "        word_list = [word.strip().lower() for t in list(dataset[dataset.category==label].cleaned) for word in t.strip().split()]\n",
        "        \n",
        "        #create a dictionary to keep the count of words\n",
        "        counts = dict()\n",
        "\n",
        "        #iterating through each word\n",
        "        for word in word_list:\n",
        "                #print(counts.get(word,0))\n",
        "                #if the word is not already present in the dictionary it will return 0 (counts.get(word, 0), \n",
        "                #this happens when the word is inserted into dictionary initially otherwise corresponding value will be return and +1 \n",
        "                #will be done if its again repeated in the list\n",
        "                counts[word] = counts.get(word, 0)+1\n",
        "        # sort the dictionary of word list  \n",
        "        ordered = sorted(counts.items(), key= lambda item: item[1],reverse = True)\n",
        "        # Documents per class\n",
        "        documents.append(len(list(dataset[dataset.category==label].cleaned)))\n",
        "        # Total Word per class\n",
        "        words.append(len(word_list))\n",
        "        # Unique words per class \n",
        "        u_words.append(len(np.unique(word_list)))\n",
        "       \n",
        "        print(\"\\nClass Name : \",label) #printing the class name\n",
        "        print(\"Number of Documents:{}\".format(len(list(dataset[dataset.category==label].cleaned)))) #printing the number of documents\n",
        "        print(\"Number of Words:{}\".format(len(word_list)))  #printing the number of words\n",
        "        print(\"Number of Unique Words:{}\".format(len(np.unique(word_list)))) #printing the number of unique word\n",
        "        print(\"Most Frequent Words:\\n\") #most frequent word (10), the dictionary is sorted\n",
        "        for k,v in ordered[:10]:\n",
        "              print(\"{}\\t{}\".format(k,v))\n",
        "    print(\"Total Number of Unique Words:{}\".format(len(np.unique(total_u_words))))    #Total Number of Unique Words       \n",
        "   \n",
        "    return documents,words,u_words,class_label #returning documents,words,u_words,class_label\n",
        "\n",
        "#call the fucntion data_summary\n",
        "documents,words,u_words,class_names = data_summary(dataset)    \n"
      ]
    },
    {
      "cell_type": "markdown",
      "metadata": {
        "id": "o2R8rfbI5CDi"
      },
      "source": [
        "#Summary Visualization"
      ]
    },
    {
      "cell_type": "markdown",
      "source": [
        "#The total document,words, unique word obtained using above can be ploted to know how much it is distributed across each of the available category. That is Number of document, Number of words, Number of unique words across all the six categories"
      ],
      "metadata": {
        "id": "45ybUTdhJ284"
      }
    },
    {
      "cell_type": "code",
      "execution_count": 13,
      "metadata": {
        "colab": {
          "base_uri": "https://localhost:8080/",
          "height": 489
        },
        "id": "YiBBy7UM5F9G",
        "outputId": "8183f2b8-2a42-4379-d41b-958274fa4528"
      },
      "outputs": [
        {
          "output_type": "display_data",
          "data": {
            "text/plain": [
              "<Figure size 576x432 with 1 Axes>"
            ],
            "image/png": "[encoded data removed]"
          },
          "metadata": {}
        }
      ],
      "source": [
        "#creating dataframe data_matrix with documents,words, u_words,class_names)\n",
        "data_matrix = pd.DataFrame({'Total Documents':documents,\n",
        "                            'Total Words':words,\n",
        "                            'Unique Words':u_words,\n",
        "                            'Class Names':class_names})\n",
        "#\n",
        "#melt() function is useful to message a DataFrame into a format where one or more columns are identifier variables,\n",
        "#while all other columns, considered measured variables, \n",
        "df = pd.melt(data_matrix, id_vars=\"Class Names\", var_name=\"Category\", value_name=\"Values\")\n",
        "#specifying the height and width of figure \n",
        "plt.figure(figsize=(8, 6))\n",
        "#to create a subplot within the graph \n",
        "ax = plt.subplot()\n",
        "\n",
        "#creating bar graph with class Names as x and values as y, category as hue\n",
        "sns.barplot(data=df,x='Class Names', y='Values' ,hue='Category')\n",
        "\n",
        "#set the xlable for subplot as ClassNames\n",
        "ax.set_xlabel('Class Names') \n",
        "#title as Data Statistics\n",
        "ax.set_title('Data Statistics')\n",
        "\n",
        "#rotating the class label by 45\n",
        "ax.xaxis.set_ticklabels(class_names, rotation=45);"
      ]
    },
    {
      "cell_type": "markdown",
      "metadata": {
        "id": "ffzR1D915ixn"
      },
      "source": [
        "#Headline Length Distribution"
      ]
    },
    {
      "cell_type": "markdown",
      "source": [
        "The below code is created to analyse the length of the headline spread across the entire dataset"
      ],
      "metadata": {
        "id": "b8T5EkqlGKv4"
      }
    },
    {
      "cell_type": "code",
      "execution_count": 14,
      "metadata": {
        "colab": {
          "base_uri": "https://localhost:8080/",
          "height": 369
        },
        "id": "HYKLhO9l5qZz",
        "outputId": "c3c88a3f-5f93-408a-f5f5-cbabcdccddb7"
      },
      "outputs": [
        {
          "output_type": "display_data",
          "data": {
            "text/plain": [
              "<Figure size 432x288 with 1 Axes>"
            ],
            "image/png": "[encoded data removed]"
          },
          "metadata": {}
        },
        {
          "output_type": "stream",
          "name": "stdout",
          "text": [
            "Maximum Length of a headline: 21\n",
            "Minimum Length of a headline: 3\n",
            "Average Length of a headline: 6.0\n"
          ]
        }
      ],
      "source": [
        "# Calculate the length of each of the each of the headline by applying the split function in each of the cleaned headlines and\n",
        "#the length of each headline is stored in headlinelength column\n",
        "dataset['HeadlineLength'] = dataset.cleaned.apply(lambda x:len(x.split()))\n",
        "\n",
        "#dictionary is created\n",
        "frequency = dict()\n",
        "#iterated throught the Headlinelength, the key  is length and value is number of times that particular lenght is repeated in a dataset suppose headline of \n",
        "#lenght 7 is appeared thries then frequency[7]=3\n",
        "for i in dataset.HeadlineLength:\n",
        "    frequency[i] = frequency.get(i, 0)+1 #if the length is not already present 0 will be returned otherwise key will be added and assigned 1. If the key is already present +1 is done\n",
        "\n",
        "#bar graph is plotted with keys (different length) and values (count of each length)\n",
        "plt.bar(frequency.keys(), frequency.values(), color =\"b\")\n",
        "#is used to get or set the x-limits of the current axes\n",
        "plt.xlim(1, 20)\n",
        "# in this notbook color is not working but it should work.\n",
        "# xlable is Length of the Headlines'\n",
        "plt.xlabel('Length of the Headlines')\n",
        "#ylable frequency\n",
        "plt.ylabel('Frequency')\n",
        "#title 'Length-Frequency Distribution'\n",
        "plt.title('Length-Frequency Distribution')\n",
        "#to display the graph\n",
        "plt.show()  \n",
        "\n",
        "#printing the \"Maximum Length of a headline: \n",
        "print(f\"Maximum Length of a headline: {max(dataset.HeadlineLength)}\")\n",
        "print(f\"Minimum Length of a headline: {min(dataset.HeadlineLength)}\")\n",
        "#\"Maximum Length of a headline: \n",
        "print(f\"Average Length of a headline: {round(np.mean(dataset.HeadlineLength),0)}\")\n",
        "#mean of headlinelength"
      ]
    },
    {
      "cell_type": "markdown",
      "metadata": {
        "id": "Tm8jDENf68Nb"
      },
      "source": [
        "#Lable Encoding and Dataset Splitting"
      ]
    },
    {
      "cell_type": "markdown",
      "source": [
        "#This function will take categories in dataframe 'dataset' and assign numerical value to each of the distinct categories and return the array as ouput of encoded label\n",
        "# if 0 is for IT , 1 is for Amusement and if the categories are in the order ['IT', 'Amusement, 'IT','IT'] => [0,1,0,0]. We are categorical value into numerical \n",
        "#as it will be easier to work with"
      ],
      "metadata": {
        "id": "nt6DZRfrEXql"
      }
    },
    {
      "cell_type": "code",
      "execution_count": 15,
      "metadata": {
        "id": "nn36LUQH7AI_"
      },
      "outputs": [],
      "source": [
        "                                      #==================================================\n",
        "                                       ################# Label Encoding Function #########\n",
        "                                       #==================================================\n",
        "                                       ## Set up training and test datasets-THA\n",
        "\n",
        "def label_encoding(category,bool):\n",
        "    \"\"\"\n",
        "    This function will return the encoded labels in array format. \n",
        "    \n",
        "    Args:\n",
        "        category: series of class names(str)\n",
        "        bool: boolean (True or False)\n",
        "        \n",
        "    Returns:\n",
        "        labels: numpy array \n",
        "    \"\"\"\n",
        "    #LabelEncoder is a method provided by sklearn library, it is used to assign numerical values  0 - n-1 to distinct values of particular column \n",
        "    #for example as there are 6 categories, it will assign 1 to IT, 0 to Amusement. Where n is the number of distinct values in categories.\n",
        "\n",
        "    #creating an LableEncoder class object\n",
        "    le = LabelEncoder()\n",
        "    #.fit will take a categorical column and converted into numerical values., in this case it takes categories and map numerical to each ofit\n",
        "    le.fit(category)\n",
        "    # the transform function will take category as input and transformed it into numerical labels such 0, 1 in the original dataframe\n",
        "    encoded_labels = le.transform(category)\n",
        "    #printing the sample encode labels\n",
        "    labels = np.array(encoded_labels) # Converting into numpy \n",
        "    # Converting encoded_list into numpy array\n",
        "    class_names =le.classes_ ## Define the class names again\n",
        "    ## class names(categories) are defined again, this will store the distinct available categores\n",
        "    #check if bool is true\n",
        "    if bool == True:\n",
        "  #printing the classes(categories)\n",
        "        #we will examine how each category has been encoded into numerical values\n",
        "        print(\"\\n\\t\\t\\t===== Label Encoding =====\",\"\\nClass Names:-->\",le.classes_)\n",
        "        # iterating through each value in sample data which is defined in earlier block of code\n",
        "        for i in sample_data:\n",
        "            print(category[i],' ', encoded_labels[i],'\\n')\n",
        "#the encoded labels that is converted into an array is returned. \n",
        "    return labels\n",
        "\n",
        "\n",
        "\n",
        "                           #===========================================================\n",
        "                           ################# Dataset Splitting Function ###############\n",
        "                           #=========================================================== \n",
        "#===========================================================\n",
        "                           ################# Dataset Splitting Function ###############\n",
        "                           #=========================================================== \n",
        "#This function will take headlines and encoded lable(which is created for categories) as \n",
        "#input and split the dataset into train, validation and test data. \n",
        "def dataset_split(headlines,category):\n",
        "    \"\"\"\n",
        "    This function will return the splitted (90%-10%-10%) feature vector . \n",
        "    \n",
        "    Args:\n",
        "        headlines: sequenced headlines \n",
        "        category: encoded lables (array) \n",
        "        \n",
        "    Returns:\n",
        "        X_train: training data \n",
        "        X_valid: validation data\n",
        "        X_test : testing feature vector \n",
        "        y_train: training encoded labels (array) \n",
        "        y_valid: training encoded labels (array) \n",
        "        y_test : testing encoded labels (array) \n",
        "    \"\"\"\n",
        "# Splitting the dataset into training and testing data, in the ratio 90:10, we use train_test_split method provided by sklearn, \n",
        "#we choose random_state =0, so that the dataset will be choosen randomly as train and test dataset\n",
        "    X,X_test,y,y_test = train_test_split(headlines,category,train_size = 0.9,\n",
        "                                                  test_size = 0.1,random_state =0)\n",
        "    X_train,X_valid,y_train,y_valid = train_test_split(X,y,train_size = 0.8,\n",
        "                                                  test_size = 0.2,random_state =0)\n",
        "    # Splitting the X,y obtained above again into training and testing data, in the ratio 80:10, we use train_test_split method provided by sklearn, \n",
        "#we choose random_state =0, so that the dataset will be choosen randomly as train and test dataset\n",
        "\n",
        "    print(color.BOLD+\"\\nDataset Distribution:\\n\"+color.END) #creating the heading as \"Dataset Distribution\"\n",
        "    print(\"\\tSet Name\",\"\\t\\tSize\") #giving labels for the printing statement to make it meaning full\n",
        "    print(\"\\t========\\t\\t======\")\n",
        "\n",
        "    print(\"\\tFull\\t\\t\\t\",len(headlines), #this will print the total number of headlines in the dataset\n",
        "        \"\\n\\tTraining\\t\\t\",len(X_train), # Number of Traning headlines\n",
        "        \"\\n\\tTest\\t\\t\\t\",len(X_test), #Number of Test headlines \n",
        "        \"\\n\\tValidation\\t\\t\",len(X_valid)) #Number of validation headlines\n",
        "    #print('Train records: ', len(x_train))\n",
        "    #print('Test records:', len(x_test))\n",
        "  \n",
        "    return X_train,X_valid,X_test,y_train,y_valid,y_test #return X_train,X_valid,X_test,y_train,y_valid,y_test\n"
      ]
    },
    {
      "cell_type": "code",
      "execution_count": 16,
      "metadata": {
        "colab": {
          "base_uri": "https://localhost:8080/",
          "height": 0
        },
        "id": "bDoeCWymdvQX",
        "outputId": "7005c247-262a-4f8c-beab-3b7130640f4c"
      },
      "outputs": [
        {
          "output_type": "stream",
          "name": "stdout",
          "text": [
            "\n",
            "\t\t\t===== Label Encoding ===== \n",
            "Class Names:--> ['Amusement' 'IT' 'International' 'national' 'politics' 'sports']\n",
            "Amusement   0 \n",
            "\n",
            "IT   1 \n",
            "\n",
            "politics   4 \n",
            "\n",
            "International   2 \n",
            "\n",
            "International   2 \n",
            "\n",
            "sports   5 \n",
            "\n",
            "sports   5 \n",
            "\n",
            "International   2 \n",
            "\n",
            "national   3 \n",
            "\n",
            "International   2 \n",
            "\n",
            "International   2 \n",
            "\n",
            "International   2 \n",
            "\n",
            "International   2 \n",
            "\n",
            "International   2 \n",
            "\n",
            "Amusement   0 \n",
            "\n"
          ]
        }
      ],
      "source": [
        "#calling the function labels to the encode the categories value\n",
        "labels = label_encoding(dataset.category,True)"
      ]
    },
    {
      "cell_type": "code",
      "execution_count": 17,
      "metadata": {
        "colab": {
          "base_uri": "https://localhost:8080/",
          "height": 0
        },
        "id": "CGxZ2er08gPr",
        "outputId": "6fa18a55-46b7-42d5-c811-2881097ed962"
      },
      "outputs": [
        {
          "output_type": "stream",
          "name": "stdout",
          "text": [
            "\u001b[1m\n",
            "Dataset Distribution:\n",
            "\u001b[0m\n",
            "\tSet Name \t\tSize\n",
            "\t========\t\t======\n",
            "\tFull\t\t\t 132713 \n",
            "\tTraining\t\t 95552 \n",
            "\tTest\t\t\t 13272 \n",
            "\tValidation\t\t 23889\n"
          ]
        }
      ],
      "source": [
        "#calling the function dataset_split to generate train, valid and test data by passing the healine and labels\n",
        "X_train,X_valid,X_test,y_train,y_valid,y_test = dataset_split(dataset.headline,labels)"
      ]
    },
    {
      "cell_type": "code",
      "execution_count": null,
      "metadata": {
        "colab": {
          "base_uri": "https://localhost:8080/"
        },
        "id": "aV1YuuscEhVn",
        "outputId": "0ddf860c-9768-412a-8752-ebd7711fb365"
      },
      "outputs": [
        {
          "name": "stdout",
          "output_type": "stream",
          "text": [
            "95552\n",
            "13272\n"
          ]
        }
      ],
      "source": [
        "#just testing\n",
        "print(len(X_train)) #length of X_train\n",
        "print(len(X_test)) #length of Y_train"
      ]
    },
    {
      "cell_type": "markdown",
      "metadata": {
        "id": "NQOHalFi9iMa"
      },
      "source": [
        "#Tokenization"
      ]
    },
    {
      "cell_type": "code",
      "execution_count": 22,
      "metadata": {
        "id": "viKvAq5T9k37"
      },
      "outputs": [],
      "source": [
        "#declaring some varibales, which could be used as parameters for the below methods\n",
        "vocab_size = 57000 #assigning vocab_size =57000 \n",
        "train_test_split = 64\n",
        "max_length = 21# maximum length is assigned to 21 \n",
        "#trunc_type='post'\n",
        "padding_type='post' #padding type which is the argument to padsequence method is assigned post so the sequence will be padded after each sequence\n",
        "oov_tok = \"<OOV>\" # this parameter if given in tokenizer class, it is added to word_index and used to replace misspelled and out-of-vocabulary words during text_to_sequence calls\n",
        "\n",
        "#creating a function padded_headlines(which original headline, encoded sequence, padded sequence )\n",
        "def padded_headlines(original,encoded,padded):\n",
        "  '''\n",
        "  print the samples padded headlines\n",
        "  '''\n",
        "  print(color.BOLD+\"\\n\\t\\t\\t====== Encoded Sequences ======\"+color.END,\"\\n\")  #printing \"Encode Sequence\"\n",
        "  print(original,\"\\n\",encoded) # printing original headline and encoded sequence version\n",
        "  print(color.BOLD+\"\\n\\t\\t\\t====== Paded Sequences ======\\n\"+color.END,original,\"\\n\",padded)  # printing original headline and padded sequence version"
      ]
    },
    {
      "cell_type": "code",
      "execution_count": 27,
      "metadata": {
        "id": "b292GeAZ9uYE",
        "colab": {
          "base_uri": "https://localhost:8080/",
          "height": 0
        },
        "outputId": "f36cf0ef-fbf9-4d33-f86b-d2f7fc6bf39b"
      },
      "outputs": [
        {
          "output_type": "stream",
          "name": "stdout",
          "text": [
            "The length of sequence <class 'list'>\n",
            "The length of sequence 95552\n",
            "The sample headline নতুন বিজ্ঞাপনে পরীমনি\n",
            "The coresponding sequence for the above sample headline [4325, 49, 27870, 984, 468, 10540, 3418]\n",
            "The length of sequence <class 'numpy.ndarray'>\n",
            "The length of sequence 95552\n",
            "The sample headline নতুন বিজ্ঞাপনে পরীমনি\n",
            "The coresponding sequence for the above sample headline [ 4325    49 27870   984   468 10540  3418     0     0     0     0     0\n",
            "     0     0     0     0     0     0     0     0     0]\n"
          ]
        }
      ],
      "source": [
        "# Train Data Tokenization\n",
        "#There is a tokenizer class of keras is there which is utilized for vectorizing a text corpus(in our case it is the headline). \n",
        "#In this text is converted into integer sequence or it could create a vector that will have coefficient for every token in all the headlines in the form of binary values. \n",
        "# There are six arguments which could be passed for the tokenizer class, but for the scope of this project only num_words and oov_token has been passed.\n",
        "\n",
        "#All the upcoming methods such as texts_to_sequence and pad_sequence done on dataset X_train\n",
        "#creating an object for the class tokenizer\n",
        "# this parameter if given in tokenizer class, it is added to word_index and used to replace misspelled and out-of-vocabulary words during text_to_sequence calls\n",
        "#num_words=which is the maximum number of words to keep, based on frequency of the words, only the most common vocab_size -1 will be kept\n",
        "tokenizer = Tokenizer(num_words = vocab_size, oov_token=oov_tok) \n",
        "\n",
        "#fit_on_text is a method of class tokenizer that has been used to update the text list's internal vocabulary, the result retun by this method can be use to find\n",
        "#more information such as word_index, word_doc\n",
        "#now we are passing X_train list obtained previous to the fit_on_text method.\n",
        "tokenizer.fit_on_texts(X_train)\n",
        "\n",
        "#unique value will be assigned to each word in the X_train which can be viewed by using tokenizer.word_index\n",
        "word_index = tokenizer.word_index\n",
        "\n",
        "#word_index : Is a dictionary, in which unique integer is assigned to each word\n",
        "\n",
        "#texts_to_sequence is an another method of tokenizer which is used to represent words of headlines into sequence of integer (Since unique value is assigned to each word)\n",
        "train_sequences = tokenizer.texts_to_sequences(X_train)\n",
        "print('The length of sequence',type(train_sequences)) # printing the type  of sequence\n",
        "print('The length of sequence',len(train_sequences))#printing thee length of sequence\n",
        "print('The sample headline',X_train[2000]) #printing the sample headline\n",
        "print('The coresponding sequence for the above sample headline',train_sequences[2000])  #printing the sample sequence for the sample headline\n",
        "\n",
        "#the list of text (headlines) padded here is X_train\n",
        "#pad_sequence is method which is used to pad each sequence of same length, since we are giving max_length=21, \n",
        "#every sequence will be padded to do 21 and its after the sequence since we give padding type as post \n",
        "#If maximum length is not given then longest sequence length will be taken.\n",
        "\n",
        "train_padded = pad_sequences(train_sequences, padding=padding_type, maxlen=max_length)\n",
        "\n",
        "#just for testing, how actually pad_sequences works\n",
        "print('The length of sequence',type(train_padded))# printing the type  of sequence\n",
        "print('The length of sequence',len(train_padded)) #printing thee length of sequence\n",
        "print('The sample headline',X_train[2000]) #printing the sample headline\n",
        "print('The coresponding sequence for the above sample headline',train_padded[2000]) #printing the sample padded sequence for the sample headline\n"
      ]
    },
    {
      "cell_type": "markdown",
      "source": [
        " #============================== Tokenizer Info =================================\n",
        "\n",
        " #As mentioned above tokenizer will be used to more information such as \n",
        " #1) Word_counts is a dictionary which has key as 'WORDS' and the value corresponds to the count of that word in a dataset\n",
        " #2) word_docs - how many documents(in this case headlines) contain the particualr word\n",
        " #3) word_index : is a dictionary, which have unique integers assigned to each word.\n",
        " #4) This document_count will give the total number of headlines used for fitting the tokenizer"
      ],
      "metadata": {
        "id": "WyBNq-3hClmF"
      }
    },
    {
      "cell_type": "code",
      "execution_count": 28,
      "metadata": {
        "colab": {
          "base_uri": "https://localhost:8080/",
          "height": 0
        },
        "id": "2iDecox7-b0I",
        "outputId": "80e9e4ce-040a-4002-f6fe-51ec8a9ec3c2"
      },
      "outputs": [
        {
          "output_type": "stream",
          "name": "stdout",
          "text": [
            "\u001b[1m\t\t\t====== Tokenizer Info ======\u001b[0m\n",
            "Words --> Counts:\n",
            "না \t 4125\n",
            "নিয়ে \t 3213\n",
            "ও \t 3201\n",
            "নিহত \t 2683\n",
            "নতুন \t 2288\n",
            "হবে \t 2193\n",
            "থেকে \t 2165\n",
            "বাংলাদেশ \t 1741\n",
            "সঙ্গে \t 1692\n",
            "করে \t 1510\n",
            "\n",
            "Words --> Documents:\n",
            "না \t 4031\n",
            "নিয়ে \t 3204\n",
            "ও \t 3173\n",
            "নিহত \t 2681\n",
            "নতুন \t 2273\n",
            "হবে \t 2182\n",
            "থেকে \t 2162\n",
            "বাংলাদেশ \t 1737\n",
            "সঙ্গে \t 1684\n",
            "করে \t 1499\n",
            "\n",
            "Words --> Index:\n",
            "মিসিসিপিতে \t 55055\n",
            "ইয়ামেনি \t 55054\n",
            "ওকিনাওয়ায় \t 55053\n",
            "শনাক্তকরণের \t 55052\n",
            "আবিষ্কৃত \t 55051\n",
            "বেলজীয় \t 55050\n",
            "পুজদেমনকে \t 55049\n",
            "‘গান’ \t 55048\n",
            "বেস \t 55047\n",
            "ইনস্ট্রুমেন্টাল \t 55046\n",
            "\n",
            "Total Documents --> 95552\n",
            "Found 55055 unique tokens\n"
          ]
        }
      ],
      "source": [
        "\n",
        "(word_counts,word_docs,word_index,document_count) = (tokenizer.word_counts,\n",
        "                                                       tokenizer.word_docs,\n",
        "                                                       tokenizer.word_index,\n",
        "                                                       tokenizer.document_count)\n",
        "\n",
        "#creating a function tokenizer_info, to iterate through the above dictionary objects\n",
        "def tokenizer_info(mylist,bool):\n",
        "  ordered = sorted(mylist.items(), key= lambda item: item[1],reverse = bool) #sorting the dictionary in descending  order of value\n",
        "  for w,c in ordered[:10]: #sample of ordered dictionary, by iterating through 10 elements\n",
        "    print(w,\"\\t\",c)# printing the words(key) and counts (values) it will be descending order as it is sorted \n",
        "  #=============================== Print all the information =========================\n",
        "print(color.BOLD+\"\\t\\t\\t====== Tokenizer Info ======\"+color.END)   #printing the heading as \"Tokenizer Info\"\n",
        "print(\"Words --> Counts:\") # printing \"Words --> Counts:\"\n",
        "\n",
        "#calling the above defined function by passing the dictionary word_counts and passing bool as True \n",
        "#which will print first 10 elements of dictionary in a sorted order descending\n",
        "tokenizer_info(word_counts,bool =True ) \n",
        "\n",
        "# printing \"\\nWords --> Documents:\"\n",
        "print(\"\\nWords --> Documents:\") \n",
        "#calling the above defined function by passing the dictionary word_docs and passing bool as True \n",
        "#which will print first 10 elements of dictionary in a sorted order descending\n",
        "tokenizer_info(word_docs,bool =True )\n",
        "\n",
        "#calling the above defined function by passing the dictionary word_index and passing bool as True \n",
        "#which will print first 10 elements of dictionary in a sorted order descending\n",
        "print(\"\\nWords --> Index:\")\n",
        "tokenizer_info(word_index,bool =True )    \n",
        "\n",
        "#printing document_count \n",
        "print(\"\\nTotal Documents -->\",document_count)\n",
        "\n",
        "#printing the length of word_index which is the number of unique tokens/words\n",
        "print(f\"Found {len(word_index)} unique tokens\")"
      ]
    },
    {
      "cell_type": "code",
      "execution_count": 29,
      "metadata": {
        "colab": {
          "base_uri": "https://localhost:8080/",
          "height": 0
        },
        "id": "0zUwx2Mk-9aF",
        "outputId": "023276d8-0cae-449e-cd3d-2858c85c605a"
      },
      "outputs": [
        {
          "output_type": "stream",
          "name": "stdout",
          "text": [
            "\u001b[1m\n",
            "\t\t\t====== Encoded Sequences ======\u001b[0m \n",
            "\n",
            "মোদির পাশে তৈমুর! \n",
            " [4172, 2216, 6238, 301, 2629, 5925]\n",
            "\u001b[1m\n",
            "\t\t\t====== Paded Sequences ======\n",
            "\u001b[0m মোদির পাশে তৈমুর! \n",
            " [4172 2216 6238  301 2629 5925    0    0    0    0    0    0    0    0\n",
            "    0    0    0    0    0    0    0]\n"
          ]
        }
      ],
      "source": [
        "#calling the function padded_headline to see the encoded and the padded sequence\n",
        "padded_headlines(X_train[10],train_sequences[10],train_padded[10]) "
      ]
    },
    {
      "cell_type": "code",
      "execution_count": 30,
      "metadata": {
        "colab": {
          "base_uri": "https://localhost:8080/",
          "height": 0
        },
        "id": "FHONzUstCPfd",
        "outputId": "3d9f0a97-471a-4917-9428-b732ac58e056"
      },
      "outputs": [
        {
          "output_type": "stream",
          "name": "stdout",
          "text": [
            "The length of X_valid 23889\n",
            "Examing few values of X_valid 61569         জেলবন্দি তামিলদের মুক্তি দিতে পারেন রাজাপক্ষে\n",
            "13353     লেজুরবৃত্তি রাজনীতির কারণে ছাত্ররা শিক্ষকদের স...\n",
            "92283                                 হোসাফ প্রেসিডেন্ট গলফ\n",
            "99420                                      নেশন্স কাপ মিশরে\n",
            "91403                                   জাপান গেলো কিশোরীরা\n",
            "122406    ভারতের প্রধানমন্ত্রী নরেন্দ্র মোদির সঙ্গে হাছা...\n",
            "81559                           তালিবানের জয়ের ধারা অব্যাহত\n",
            "68587                 পুতুলের সঙ্গে সম্পর্কে স্ত্রীর সম্মতি\n",
            "95250                              সিজেকেএস প্রথম বিভাগ হকি\n",
            "34497                            শচীনের চেয়েও জনপ্রিয় ধোনি!\n",
            "Name: headline, dtype: object\n",
            "\u001b[1m\n",
            "\t\t\t====== Encoded Sequences ======\u001b[0m \n",
            "\n",
            "জেলবন্দি তামিলদের মুক্তি দিতে পারেন রাজাপক্ষে \n",
            " [1, 1410, 161, 18585, 4123, 2124, 2521, 2, 851]\n",
            "\u001b[1m\n",
            "\t\t\t====== Paded Sequences ======\n",
            "\u001b[0m জেলবন্দি তামিলদের মুক্তি দিতে পারেন রাজাপক্ষে \n",
            " [    1  1410   161 18585  4123  2124  2521     2   851     0     0     0\n",
            "     0     0     0     0     0     0     0     0     0]\n"
          ]
        }
      ],
      "source": [
        "# Validation Data Tokenization\n",
        "#repeating step for validation data similar to Traning data\n",
        "#All the upcoming methods such as texts_to_sequence and pad_sequence done on dataset X_valid\n",
        "#'The length of X_valid'\n",
        "print('The length of X_valid', len(X_valid))\n",
        "#'Examing few values of X_valid'\n",
        "print('Examing few values of X_valid', X_valid[:10])\n",
        "\n",
        "#the list of text (headlines) padded here is X_valid\n",
        "#texts_to_sequence is an another method of tokenizer which is used to represent words of headlines into sequence of integer\n",
        "#(Since unique value is assigned to each word)\n",
        "validation_sequences = tokenizer.texts_to_sequences(X_valid)\n",
        "\n",
        "#padding the valid dataset sequence\n",
        "#pad_sequence is method which is used to pad each sequence of same length, since we are giving max_length=21, \n",
        "#every sequence will be padded to do 21 and its after the sequence since we give padding type as post \n",
        "#If maximum length is not given then longest sequence length will be taken.\n",
        "validation_padded = pad_sequences(validation_sequences, padding=padding_type , maxlen=max_length)\n",
        "\n",
        "#calling the function padded_headlines, to see  padded sequence for Valid dataset\n",
        "padded_headlines(X_valid[61569],validation_sequences[1],validation_padded[1]) \n"
      ]
    },
    {
      "cell_type": "code",
      "execution_count": 31,
      "metadata": {
        "colab": {
          "base_uri": "https://localhost:8080/",
          "height": 0
        },
        "id": "-FQT_IuTBocX",
        "outputId": "59bf1b0f-d5b2-4f6d-eabd-f57266d03882"
      },
      "outputs": [
        {
          "output_type": "stream",
          "name": "stdout",
          "text": [
            "\u001b[1m\n",
            "\t\t\t====== Encoded Sequences ======\u001b[0m \n",
            "\n",
            "দেখতে পারেন শ্রীদেবীর সেরা ৪ ছবি (ভিডিও) \n",
            " [822, 466, 778, 54443]\n",
            "\u001b[1m\n",
            "\t\t\t====== Paded Sequences ======\n",
            "\u001b[0m দেখতে পারেন শ্রীদেবীর সেরা ৪ ছবি (ভিডিও) \n",
            " [  822   466   778 54443     0     0     0     0     0     0     0     0\n",
            "     0     0     0     0     0     0     0     0     0]\n"
          ]
        }
      ],
      "source": [
        "# Test Data Tokenization\n",
        "#repeating step for test data similar to Traning data\n",
        "#All the upcoming methods such as texts_to_sequence and pad_sequence done on dataset X_test\n",
        "\n",
        "#the list of text (headlines) padded here is X_test\n",
        "#texts_to_sequence is an another method of tokenizer which is used to represent words of headlines into sequence of integer\n",
        "#(Since unique value is assigned to each word)\n",
        "test_sequences = tokenizer.texts_to_sequences(X_test)\n",
        "\n",
        "#padding the test dataset sequence\n",
        "#pad_sequence is method which is used to pad each sequence of same length, since we are giving max_length=21, \n",
        "#every sequence will be padded to do 21 and its after the sequence since we give padding type as post \n",
        "#If maximum length is not given then longest sequence length will be taken.\n",
        "test_padded = pad_sequences(test_sequences, padding=padding_type , maxlen=max_length)\n",
        "\n",
        "#calling the function padded_headlines, to see  padded sequence for Valid dataset\n",
        "padded_headlines(X_test[100],test_sequences[100],test_padded[100]) "
      ]
    },
    {
      "cell_type": "code",
      "execution_count": 33,
      "metadata": {
        "id": "shAO46yDGNV9"
      },
      "outputs": [],
      "source": [
        "# Labels Tokenization\n",
        "#label_tokenizer = Tokenizer()\n",
        "#label_tokenizer.fit_on_texts(dataset.category)\n",
        "\n",
        "#assigning the y_train to train_label_seq\n",
        "train_label_seq = y_train\n",
        "\n",
        "#assigning the y_valid to valid_label_seq\n",
        "valid_label_seq = y_valid\n",
        "\n",
        "\n",
        "#assigning they_test to testing_label_seq\n",
        "testing_label_seq = y_test\n",
        "\n",
        "#print(train_label_seq.shape)\n",
        "#print(valid_label_seq.shape)\n",
        "#print(testing_label_seq.shape)"
      ]
    },
    {
      "cell_type": "markdown",
      "metadata": {
        "id": "JCuh3RC3G9h3"
      },
      "source": [
        "#Model Defination"
      ]
    },
    {
      "cell_type": "markdown",
      "source": [
        "#we are building the model layer by layer such as Embedding, Bidirectional, Dense, Flatten and Dense\n",
        "#The model used has the architecture consists of a embedding layer(input_length = 21, embedding_dim = 64), GRU layer(n_units = 64), two dense layer (n_units = 24, 6), a dropout and a softmax layer. The Architecture\n",
        "# Embedding Layer: Here we are building a embeddding layer initially, which requires all individual documents to be of same length which is 21.\n",
        "# we have done this by padding every sequence of same length\n",
        "#Dense layer is added for create a deeply connected layer in neural network in which each of neurons this layer receives input all the neuron of previous layer. \n",
        "#flatten layer is used to flatten the input \n",
        "#to handle backwards input processing birdirectional layer is used. "
      ],
      "metadata": {
        "id": "7MP5INgIB4_4"
      }
    },
    {
      "cell_type": "code",
      "execution_count": 39,
      "metadata": {
        "colab": {
          "base_uri": "https://localhost:8080/",
          "height": 0
        },
        "id": "TfdblA64HI8B",
        "outputId": "291770eb-84b2-439f-f638-011d0d9b3e12"
      },
      "outputs": [
        {
          "output_type": "stream",
          "name": "stdout",
          "text": [
            "WARNING:tensorflow:Compiled the loaded model, but the compiled metrics have yet to be built. `model.compile_metrics` will be empty until you train or evaluate the model.\n",
            "Model: \"sequential\"\n",
            "_________________________________________________________________\n",
            " Layer (type)                Output Shape              Param #   \n",
            "=================================================================\n",
            " embedding (Embedding)       (None, 21, 64)            3648000   \n",
            "                                                                 \n",
            " bidirectional (Bidirectiona  (None, 128)              49920     \n",
            " l)                                                              \n",
            "                                                                 \n",
            " dense (Dense)               (None, 24)                3096      \n",
            "                                                                 \n",
            " flatten (Flatten)           (None, 24)                0         \n",
            "                                                                 \n",
            " dense_1 (Dense)             (None, 6)                 150       \n",
            "                                                                 \n",
            "=================================================================\n",
            "Total params: 3,701,166\n",
            "Trainable params: 3,701,166\n",
            "Non-trainable params: 0\n",
            "_________________________________________________________________\n"
          ]
        }
      ],
      "source": [
        "#now we created the relevant datasets and necessary padded has been done, we will move to building the model.\n",
        "#Ideally a global state is managed by keras which is used to implement the Functional model-building Api \n",
        "#and to autogenerate layers. More memory will be consumed by the global state if many models are created, \n",
        "#calling this clear_session will releases the global state \n",
        "#which inturn avoid clutter from old model and layer as the memory is limited.\n",
        "keras.backend.clear_session()\n",
        "accuracy_threshold = 0.97\n",
        "vocab_size = 57000\n",
        "# 64 is kind of a generic choice that should work well\n",
        "# for various-sized character vocabularies. There is a danger of overfitting \n",
        "# when the size of the embedding layer exceeds the size of the vocabulary.\n",
        "embedding_dim = 64 \n",
        "max_length = 21 #assigning max _length be 21\n",
        "num_category = 6 #assigning to 6\n",
        "\n",
        "class myCallback(keras.callbacks.Callback): #this class has been create to implement keras callback, Callbacks can be passed to keras methods such as fit\n",
        "  def on_epoch_end(self, epoch, logs={}): #epoch is 10, fun\n",
        "      if(logs.get('accuracy')>accuracy_threshold): #train the model until the accuracy reaches 0.97\n",
        "        print(\"\\nReached %2.2f%% accuracy so we will stop trianing\" % (accuracy_threshold*100))\n",
        "        self.model.stop_training = True #if it reaches the accuracy stop training the model\n",
        "\n",
        "\n",
        "\n",
        "#ModelCheckpoint- This is used along with training using model.fit() to save a model or model at some interval so the model or weights can be loaded \n",
        "#later to proceed the training from the saved state\n",
        "\n",
        "\n",
        "#we are building the model layer by layer such as Embedding, Bidirectional, Dense, Flatten and Dense\n",
        "#The model used has the architecture consists of a embedding layer(input_length = 21, embedding_dim = 64), GRU layer(n_units = 64), two dense layer (n_units = 24, 6), a dropout and a softmax layer. The Architecture\n",
        "# Embedding Layer: Here we are building a embeddding layer initially, which requires all individual documents to be of same length which is 21.\n",
        "# we have done this by padding every sequence of same length\n",
        "#Dense layer is added for create a deeply connected layer in neural network in which each of neurons this layer receives input all the neuron of previous layer. \n",
        "#flatten layer is used to flatten the input \n",
        "#to handle backwards input processing birdirectional layer is used. \n",
        "model = tf.keras.Sequential([\n",
        "    tf.keras.layers.Embedding(vocab_size, embedding_dim, input_length=max_length),\n",
        "    tf.keras.layers.Bidirectional(GRU(64,dropout=0.2)),\n",
        "    tf.keras.layers.Dense(24, activation='relu'),\n",
        "    tf.keras.layers.Flatten(),\n",
        "    tf.keras.layers.Dense(num_category, activation='softmax')\n",
        "])\n",
        "\n",
        "model.save( 'model.h5' ) #saving the model state in VM of the notebook\n",
        "#ModelCheckpoint- This is used along with training using model.fit() to save a model or model at some interval so the model or weights can be loaded \n",
        "#later to proceed the training from the saved state\n",
        "\n",
        "checkpoint = keras.callbacks.ModelCheckpoint('model.h5', monitor='val_accuracy', verbose=2, save_best_only=True, \n",
        "                                             save_weights_only=False, mode='max')\n",
        "#calling the function if the accuracy reached is saturated\n",
        "acc_callback = myCallback()\n",
        "callback_list = [acc_callback, checkpoint] \n",
        "\n",
        "#compile the model by giving loss as loss='sparse_categorical_crossentropy',optimizer='adam',metrics=['accuracy']\n",
        "model.compile(loss='sparse_categorical_crossentropy',optimizer='adam',metrics=['accuracy'])\n",
        "model.summary() #summary of the model created "
      ]
    },
    {
      "cell_type": "markdown",
      "source": [
        "Training the model for the fixed number of epochs using fit method, by passing the train_padded, train_label_seq(y_train) and validataion data -Data on which to evaluate the loss and any model metrics at the end of each epoch#by setting verbosity mode as 1, and callbacks to be called [acc_callback, checkpoint] during training. "
      ],
      "metadata": {
        "id": "LC7bJiAdBWRC"
      }
    },
    {
      "cell_type": "code",
      "execution_count": 40,
      "metadata": {
        "colab": {
          "base_uri": "https://localhost:8080/",
          "height": 0
        },
        "id": "gySWitpfHf33",
        "outputId": "510c7172-ef9a-4af2-de8a-fb1e0a64f49e"
      },
      "outputs": [
        {
          "output_type": "stream",
          "name": "stdout",
          "text": [
            "Epoch 1/10\n",
            "1493/1493 [==============================] - ETA: 0s - loss: 0.6912 - accuracy: 0.7456\n",
            "Epoch 1: val_accuracy improved from -inf to 0.83063, saving model to model.h5\n",
            "1493/1493 [==============================] - 151s 98ms/step - loss: 0.6912 - accuracy: 0.7456 - val_loss: 0.4815 - val_accuracy: 0.8306\n",
            "Epoch 2/10\n",
            "1493/1493 [==============================] - ETA: 0s - loss: 0.3297 - accuracy: 0.8833\n",
            "Epoch 2: val_accuracy improved from 0.83063 to 0.84085, saving model to model.h5\n",
            "1493/1493 [==============================] - 162s 108ms/step - loss: 0.3297 - accuracy: 0.8833 - val_loss: 0.4553 - val_accuracy: 0.8408\n",
            "Epoch 3/10\n",
            "1493/1493 [==============================] - ETA: 0s - loss: 0.2120 - accuracy: 0.9259\n",
            "Epoch 3: val_accuracy did not improve from 0.84085\n",
            "1493/1493 [==============================] - 154s 103ms/step - loss: 0.2120 - accuracy: 0.9259 - val_loss: 0.4852 - val_accuracy: 0.8391\n",
            "Epoch 4/10\n",
            "1493/1493 [==============================] - ETA: 0s - loss: 0.1568 - accuracy: 0.9448\n",
            "Epoch 4: val_accuracy did not improve from 0.84085\n",
            "1493/1493 [==============================] - 153s 102ms/step - loss: 0.1568 - accuracy: 0.9448 - val_loss: 0.5194 - val_accuracy: 0.8360\n",
            "Epoch 5/10\n",
            "1493/1493 [==============================] - ETA: 0s - loss: 0.1232 - accuracy: 0.9570\n",
            "Epoch 5: val_accuracy did not improve from 0.84085\n",
            "1493/1493 [==============================] - 167s 112ms/step - loss: 0.1232 - accuracy: 0.9570 - val_loss: 0.5954 - val_accuracy: 0.8324\n",
            "Epoch 6/10\n",
            "1493/1493 [==============================] - ETA: 0s - loss: 0.1003 - accuracy: 0.9640\n",
            "Epoch 6: val_accuracy did not improve from 0.84085\n",
            "1493/1493 [==============================] - 175s 117ms/step - loss: 0.1003 - accuracy: 0.9640 - val_loss: 0.6436 - val_accuracy: 0.8312\n",
            "Epoch 7/10\n",
            "1493/1493 [==============================] - ETA: 0s - loss: 0.0828 - accuracy: 0.9702\n",
            "Reached 97.00% accuracy so we will stop trianing\n",
            "\n",
            "Epoch 7: val_accuracy did not improve from 0.84085\n",
            "1493/1493 [==============================] - 168s 113ms/step - loss: 0.0828 - accuracy: 0.9702 - val_loss: 0.6863 - val_accuracy: 0.8236\n"
          ]
        }
      ],
      "source": [
        "#epoch is taken as 10\n",
        "num_epochs = 10\n",
        "#The batch size is taken 64\n",
        "batch = 64\n",
        "#Traning the model using fit method \n",
        "history = model.fit(train_padded, train_label_seq, \n",
        "                    epochs=num_epochs,\n",
        "                    batch_size = batch,\n",
        "                    validation_data=(validation_padded, valid_label_seq), \n",
        "                    verbose=1,\n",
        "                    callbacks = callback_list)"
      ]
    },
    {
      "cell_type": "markdown",
      "source": [
        ""
      ],
      "metadata": {
        "id": "-rShuUtZRO9G"
      }
    },
    {
      "cell_type": "markdown",
      "metadata": {
        "id": "ixYs6bQ4oBCH"
      },
      "source": [
        "##Confusion Matrix"
      ]
    },
    {
      "cell_type": "markdown",
      "source": [
        "This block of code is used to construct confustion matrix which is used to visualize and summarize the prediction of the model created. Initally predictions are made by passing test_padded created earlier in the code in model.predict method, then numpy argmax is constructing by taking the maximum value predicted. Then confusion matrix is created with y_pred and testing_label. Dataframe as below is created to make easy plotting of the matrix. The accuracy is also calcualted using accuracy_score."
      ],
      "metadata": {
        "id": "5CVKD5P-_y4I"
      }
    },
    {
      "cell_type": "code",
      "execution_count": 46,
      "metadata": {
        "colab": {
          "base_uri": "https://localhost:8080/",
          "height": 741
        },
        "id": "U5GRIl25qF_b",
        "outputId": "a1f4ce94-9a4c-41a5-ed1d-90bdfb645598"
      },
      "outputs": [
        {
          "output_type": "stream",
          "name": "stdout",
          "text": [
            "[[1.56013995e-01 3.31357936e-03 8.40156913e-01 1.76918402e-04\n",
            "  1.08156004e-04 2.30443155e-04]\n",
            " [5.55351471e-05 7.62310151e-07 1.42540870e-04 1.18353916e-03\n",
            "  1.54903523e-06 9.98616099e-01]\n",
            " [4.83196573e-07 3.92262278e-10 2.25391409e-06 1.47371138e-05\n",
            "  8.41538039e-09 9.99982476e-01]\n",
            " ...\n",
            " [1.77400898e-06 4.49340121e-08 9.98929560e-01 9.93798370e-04\n",
            "  1.84137662e-06 7.30229731e-05]\n",
            " [4.66251413e-06 5.97528382e-09 5.64154587e-04 3.62449437e-02\n",
            "  4.67760765e-06 9.63181555e-01]\n",
            " [1.12993587e-06 2.89847344e-06 9.99977231e-01 1.72629261e-05\n",
            "  1.18662024e-06 2.45832268e-07]]\n"
          ]
        },
        {
          "output_type": "display_data",
          "data": {
            "text/plain": [
              "<Figure size 576x432 with 2 Axes>"
            ],
            "image/png": "[encoded data removed]"
          },
          "metadata": {}
        }
      ],
      "source": [
        "from sklearn.metrics import classification_report, confusion_matrix\n",
        "# load the Saved model from directory\n",
        "\n",
        "#predicting the accuracy of model by using the predict method which take test_padded as \n",
        "#predict passes the input vector(test_padded) through the model and returns the output tensor for each datapoint. \n",
        "#Since the  last layer of the  model is a single Dense neuron, the output for any datapoint is a single value\n",
        "predictions = model.predict(test_padded)\n",
        "#printing predictions\n",
        "print(predictions)\n",
        "\n",
        "#applying np.argmax to the predictions\n",
        "y_pred = np.argmax(predictions, axis=1)\n",
        "\n",
        "#The confusion matrix is built by confusion_matrix method\n",
        "#confusion_matrix\n",
        "#A confusion matrix is used to describe the perfromance of the model created. \n",
        "cm = confusion_matrix(testing_label_seq, y_pred) \n",
        "\n",
        "# Transforming to dataframe for easier plotting\n",
        "cm_df = pd.DataFrame(cm,\n",
        "                     \n",
        "                     index = ['Amusement' ,'IT' ,'International', 'National', 'Politics', 'Sports'], \n",
        "                     columns = ['Amusement' ,'IT' ,'International', 'National', 'Politics', 'Sports'])\n",
        "\n",
        "#plotting the graph\n",
        "plt.figure(figsize=(8,6))\n",
        "#sns heatmap is used to create a coloured encoded matrix \n",
        "sns.heatmap(cm_df, annot=True,cmap=\"YlGnBu\", fmt='g')\n",
        "plt.title('GRU \\nAccuracy: {0:.2f}'.format(accuracy_score(testing_label_seq, y_pred)*100))\n",
        "#True label is in x axis\n",
        "plt.ylabel('True label')\n",
        "#predicted label is in y axis\n",
        "plt.xlabel('Predicted label')\n",
        "#rotating the x ticks by 45 degree\n",
        "plt.xticks(rotation = 45)\n",
        "#rotating the y ticks by 45 degree\n",
        "plt.yticks(rotation = 45)\n",
        "#to show the graph created\n",
        "plt.show()"
      ]
    },
    {
      "cell_type": "markdown",
      "source": [
        "The below piece of code is used to calculate the precision, recall, f1-score for each of the categories, by creating dataframe bt taking testing_label_seq and the y_pred calculated from the previous block of code. \n",
        "These score are very useful measuare of the success of prediction when the dataset is unevenly distributed. In simple, measurement of result relevancy is precision and recall is a meacure of how many truly relevant results are returned. f1 score is the mean of precision and recall. These scores provide the insight of how well the classification model make correct prediction.  "
      ],
      "metadata": {
        "id": "BAR0S3oZ-ZHn"
      }
    },
    {
      "cell_type": "code",
      "execution_count": 45,
      "metadata": {
        "colab": {
          "base_uri": "https://localhost:8080/",
          "height": 332
        },
        "id": "kJMjeeagoG-9",
        "outputId": "1c9b434d-f8fa-474c-ea57-9d7f36dcc1a3"
      },
      "outputs": [
        {
          "output_type": "execute_result",
          "data": {
            "text/plain": [
              "               precision  recall  f1-score       support\n",
              "Amusement          84.53   88.56     86.50   1617.000000\n",
              "IT                 56.50   65.38     60.62    286.000000\n",
              "International      89.74   87.57     88.64   4852.000000\n",
              "National           69.11   68.93     69.02   2398.000000\n",
              "Politics           64.99   70.97     67.85   1054.000000\n",
              "Sports             93.43   90.51     91.95   3065.000000\n",
              "accuracy           83.21   83.21     83.21      0.832052\n",
              "macro avg          76.38   78.65     77.43  13272.000000\n",
              "weighted avg       83.55   83.21     83.34  13272.000000"
            ],
            "text/html": [
              "\n",
              "  <div id=\"df-028a1c30-1d4a-4b4a-a9e7-cf5f6cc34150\">\n",
              "    <div class=\"colab-df-container\">\n",
              "      <div>\n",
              "<style scoped>\n",
              "    .dataframe tbody tr th:only-of-type {\n",
              "        vertical-align: middle;\n",
              "    }\n",
              "\n",
              "    .dataframe tbody tr th {\n",
              "        vertical-align: top;\n",
              "    }\n",
              "\n",
              "    .dataframe thead th {\n",
              "        text-align: right;\n",
              "    }\n",
              "</style>\n",
              "<table border=\"1\" class=\"dataframe\">\n",
              "  <thead>\n",
              "    <tr style=\"text-align: right;\">\n",
              "      <th></th>\n",
              "      <th>precision</th>\n",
              "      <th>recall</th>\n",
              "      <th>f1-score</th>\n",
              "      <th>support</th>\n",
              "    </tr>\n",
              "  </thead>\n",
              "  <tbody>\n",
              "    <tr>\n",
              "      <th>Amusement</th>\n",
              "      <td>84.53</td>\n",
              "      <td>88.56</td>\n",
              "      <td>86.50</td>\n",
              "      <td>1617.000000</td>\n",
              "    </tr>\n",
              "    <tr>\n",
              "      <th>IT</th>\n",
              "      <td>56.50</td>\n",
              "      <td>65.38</td>\n",
              "      <td>60.62</td>\n",
              "      <td>286.000000</td>\n",
              "    </tr>\n",
              "    <tr>\n",
              "      <th>International</th>\n",
              "      <td>89.74</td>\n",
              "      <td>87.57</td>\n",
              "      <td>88.64</td>\n",
              "      <td>4852.000000</td>\n",
              "    </tr>\n",
              "    <tr>\n",
              "      <th>National</th>\n",
              "      <td>69.11</td>\n",
              "      <td>68.93</td>\n",
              "      <td>69.02</td>\n",
              "      <td>2398.000000</td>\n",
              "    </tr>\n",
              "    <tr>\n",
              "      <th>Politics</th>\n",
              "      <td>64.99</td>\n",
              "      <td>70.97</td>\n",
              "      <td>67.85</td>\n",
              "      <td>1054.000000</td>\n",
              "    </tr>\n",
              "    <tr>\n",
              "      <th>Sports</th>\n",
              "      <td>93.43</td>\n",
              "      <td>90.51</td>\n",
              "      <td>91.95</td>\n",
              "      <td>3065.000000</td>\n",
              "    </tr>\n",
              "    <tr>\n",
              "      <th>accuracy</th>\n",
              "      <td>83.21</td>\n",
              "      <td>83.21</td>\n",
              "      <td>83.21</td>\n",
              "      <td>0.832052</td>\n",
              "    </tr>\n",
              "    <tr>\n",
              "      <th>macro avg</th>\n",
              "      <td>76.38</td>\n",
              "      <td>78.65</td>\n",
              "      <td>77.43</td>\n",
              "      <td>13272.000000</td>\n",
              "    </tr>\n",
              "    <tr>\n",
              "      <th>weighted avg</th>\n",
              "      <td>83.55</td>\n",
              "      <td>83.21</td>\n",
              "      <td>83.34</td>\n",
              "      <td>13272.000000</td>\n",
              "    </tr>\n",
              "  </tbody>\n",
              "</table>\n",
              "</div>\n",
              "      <button class=\"colab-df-convert\" onclick=\"convertToInteractive('df-028a1c30-1d4a-4b4a-a9e7-cf5f6cc34150')\"\n",
              "              title=\"Convert this dataframe to an interactive table.\"\n",
              "              style=\"display:none;\">\n",
              "        \n",
              "  <svg xmlns=\"http://www.w3.org/2000/svg\" height=\"24px\"viewBox=\"0 0 24 24\"\n",
              "       width=\"24px\">\n",
              "    <path d=\"M0 0h24v24H0V0z\" fill=\"none\"/>\n",
              "    <path d=\"M18.56 5.44l.94 2.06.94-2.06 2.06-.94-2.06-.94-.94-2.06-.94 2.06-2.06.94zm-11 1L8.5 8.5l.94-2.06 2.06-.94-2.06-.94L8.5 2.5l-.94 2.06-2.06.94zm10 10l.94 2.06.94-2.06 2.06-.94-2.06-.94-.94-2.06-.94 2.06-2.06.94z\"/><path d=\"M17.41 7.96l-1.37-1.37c-.4-.4-.92-.59-1.43-.59-.52 0-1.04.2-1.43.59L10.3 9.45l-7.72 7.72c-.78.78-.78 2.05 0 2.83L4 21.41c.39.39.9.59 1.41.59.51 0 1.02-.2 1.41-.59l7.78-7.78 2.81-2.81c.8-.78.8-2.07 0-2.86zM5.41 20L4 18.59l7.72-7.72 1.47 1.35L5.41 20z\"/>\n",
              "  </svg>\n",
              "      </button>\n",
              "      \n",
              "  <style>\n",
              "    .colab-df-container {\n",
              "      display:flex;\n",
              "      flex-wrap:wrap;\n",
              "      gap: 12px;\n",
              "    }\n",
              "\n",
              "    .colab-df-convert {\n",
              "      background-color: #E8F0FE;\n",
              "      border: none;\n",
              "      border-radius: 50%;\n",
              "      cursor: pointer;\n",
              "      display: none;\n",
              "      fill: #1967D2;\n",
              "      height: 32px;\n",
              "      padding: 0 0 0 0;\n",
              "      width: 32px;\n",
              "    }\n",
              "\n",
              "    .colab-df-convert:hover {\n",
              "      background-color: #E2EBFA;\n",
              "      box-shadow: 0px 1px 2px rgba(60, 64, 67, 0.3), 0px 1px 3px 1px rgba(60, 64, 67, 0.15);\n",
              "      fill: #174EA6;\n",
              "    }\n",
              "\n",
              "    [theme=dark] .colab-df-convert {\n",
              "      background-color: #3B4455;\n",
              "      fill: #D2E3FC;\n",
              "    }\n",
              "\n",
              "    [theme=dark] .colab-df-convert:hover {\n",
              "      background-color: #434B5C;\n",
              "      box-shadow: 0px 1px 3px 1px rgba(0, 0, 0, 0.15);\n",
              "      filter: drop-shadow(0px 1px 2px rgba(0, 0, 0, 0.3));\n",
              "      fill: #FFFFFF;\n",
              "    }\n",
              "  </style>\n",
              "\n",
              "      <script>\n",
              "        const buttonEl =\n",
              "          document.querySelector('#df-028a1c30-1d4a-4b4a-a9e7-cf5f6cc34150 button.colab-df-convert');\n",
              "        buttonEl.style.display =\n",
              "          google.colab.kernel.accessAllowed ? 'block' : 'none';\n",
              "\n",
              "        async function convertToInteractive(key) {\n",
              "          const element = document.querySelector('#df-028a1c30-1d4a-4b4a-a9e7-cf5f6cc34150');\n",
              "          const dataTable =\n",
              "            await google.colab.kernel.invokeFunction('convertToInteractive',\n",
              "                                                     [key], {});\n",
              "          if (!dataTable) return;\n",
              "\n",
              "          const docLinkHtml = 'Like what you see? Visit the ' +\n",
              "            '<a target=\"_blank\" href=https://colab.research.google.com/notebooks/data_table.ipynb>data table notebook</a>'\n",
              "            + ' to learn more about interactive tables.';\n",
              "          element.innerHTML = '';\n",
              "          dataTable['output_type'] = 'display_data';\n",
              "          await google.colab.output.renderOutput(dataTable, element);\n",
              "          const docLink = document.createElement('div');\n",
              "          docLink.innerHTML = docLinkHtml;\n",
              "          element.appendChild(docLink);\n",
              "        }\n",
              "      </script>\n",
              "    </div>\n",
              "  </div>\n",
              "  "
            ]
          },
          "metadata": {},
          "execution_count": 45
        }
      ],
      "source": [
        "\n",
        "#panda dataframe is created with \n",
        "report = pd.DataFrame(classification_report(y_true = testing_label_seq, y_pred = y_pred, output_dict=True)).transpose()\n",
        "\n",
        "#creating the column to be on the right side as categories.\n",
        "report = report.rename(index={'0': 'Amusement','1':'IT','2':'International','3':'National','4':'Politics','5':'Sports'})\n",
        "\n",
        "#precision, recall and f1 score are calculated for each of the categories.\n",
        "report[['precision','recall','f1-score']]=report[['precision','recall','f1-score']].apply(lambda x: round(x*100,2))\n",
        "report"
      ]
    },
    {
      "cell_type": "markdown",
      "source": [
        "The data set is converted into dataframe and a graph is generated to see the data distribution. There are 6 distinct categories, the graph Dataset Distribution which indicates Number of Headlines vs Category, which shows that international category has more number of headlines followed by sports, national, amusement, politics and IT. Once the data is cleaned by removing the unwanted symbol and dropping the headline of length less than 2 is removed, number of headlines, words, unique words are calculated by each of the categories. There are more number of unique words contributed by category ‘International’ and least is contributed by ‘IT’. The length frequency distribution of headline is also analyzed where 21 is the maximum length. As mentioned in introduction dataset are manipulated (tokenized, padded, text to sequence) to feed into the model. The input to the model is padded to left as we have taken post type in padded sequence. The output of model compiler is \n",
        "Total params: 3,701,166\n",
        "Trainable params: 3,701,166\n",
        "Non-trainable params: 0\n",
        "I have taken epoch size as 10 and batch as 64, the model is trained with trained and validation data. The value accuracy of each epoch is between .82- .84 it is not improving much. The val_accuracy did not improve from 0.84085 to precise while training the mode. Then the trained model with accuracy around.84 is tested by making prediction for the test data which is padded and confusion matrix is created with predicted value which shows that the accuracy is around 83.21. By seeing the confusion matrix we could see that International categories is predicted more accurately followed by sports, national,amusement, politics and for IT is very low. This is making sense since most of the headline category belongs to International and only some to IT. The dataset Is not very well distributed along the categories. Even Precision, recall and f1 shows high value for International and low value for IT. \n",
        " \n",
        "The accuracy is okay for this imbalanced dataset but it needs to be improved one way it could be improved is by increasing the number of dataset which have equally distributed categories. Since the prediction is based on word embeddings only categories which provide more word to the dataset will be predicted correctly we need the words in every category in a balanced manner and also we can fine tune the parameters such epoch and batch to improve the trained model.\n",
        "\n",
        " \n"
      ],
      "metadata": {
        "id": "hombN1GZRZNU"
      }
    },
    {
      "cell_type": "markdown",
      "source": [
        "References: \n",
        "\n",
        "https://seaborn.pydata.org/generated/seaborn.set_context.html\n",
        "https://matplotlib.org/3.1.1/api/_as_gen/matplotlib.pyplot.xlabel.html\n",
        "https://en.wikipedia.org/wiki/Bengali_(Unicode_block)\n",
        "https://docs.python.org/3/library/re.html\n",
        "https://www.geeksforgeeks.org/matplotlib-pyplot-xlabels-in-python/\n",
        "https://scikit-learn.org/stable/modules/generated/\n",
        "sklearn.preprocessing.LabelEncoder.html#:~:text=class%20sklearn.preprocessing.,and%20not%20the%20input%20X%20.\n",
        "\n",
        "https://machinelearningknowledge.ai/keras-tokenizer-tutorial-with-examples-for-fit_on_texts-texts_to_sequences-texts_to_matrix-sequences_to_matrix/\n",
        "\n",
        "https://towardsdatascience.com/text-classification-in-keras-part-2-how-to-use-the-keras-tokenizer-word-representations-fd571674df23\n",
        "https://stackoverflow.com/questions/56333914/uses-of-embedding-embedding-layer-in-deep-learning\n",
        "I have referred all the labs and homework code also\n"
      ],
      "metadata": {
        "id": "FtpH6ww_RaIT"
      }
    }
  ],
  "metadata": {
    "accelerator": "GPU",
    "colab": {
      "collapsed_sections": [],
      "name": "thhhFinalProject.ipynb",
      "provenance": []
    },
    "kernelspec": {
      "display_name": "Python 3",
      "name": "python3"
    }
  },
  "nbformat": 4,
  "nbformat_minor": 0
}